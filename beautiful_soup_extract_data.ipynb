{
  "nbformat": 4,
  "nbformat_minor": 0,
  "metadata": {
    "colab": {
      "provenance": [],
      "authorship_tag": "ABX9TyOvES5O41EKsKdV907eQblN",
      "include_colab_link": true
    },
    "kernelspec": {
      "name": "python3",
      "display_name": "Python 3"
    },
    "language_info": {
      "name": "python"
    }
  },
  "cells": [
    {
      "cell_type": "markdown",
      "metadata": {
        "id": "view-in-github",
        "colab_type": "text"
      },
      "source": [
        "<a href=\"https://colab.research.google.com/github/DeshanHarshana/Sinhala-News-Classification/blob/main/beautiful_soup_extract_data.ipynb\" target=\"_parent\"><img src=\"https://colab.research.google.com/assets/colab-badge.svg\" alt=\"Open In Colab\"/></a>"
      ]
    },
    {
      "cell_type": "code",
      "source": [
        "from bs4 import BeautifulSoup as bs\n",
        "import requests \n",
        "\n",
        "sportList=[]\n",
        "entatientmentList=[]\n",
        "localList=[]\n",
        "\n",
        "for i in range(2, 500):\n",
        "  url = f'https://www.hirunews.lk/sports/all-news.php?pageID={i}'\n",
        "  html = requests.get(url).text\n",
        "  soup = bs(html)\n",
        "  hrefs = soup.findAll('div', attrs={'class':'sc-image'})\n",
        "  for j in range(len(hrefs)):\n",
        "    try:\n",
        "      img = hrefs[j].find('img', alt=True)\n",
        "      temp=(img['alt'],1)\n",
        "      #print(img['alt'])\n",
        "      sportList.append(temp)\n",
        "    except:\n",
        "      continue\n",
        "\n",
        "for i in range(2, 500):\n",
        "  url = f'https://www.hirunews.lk/international-news.php?pageID={i}'\n",
        "  html = requests.get(url).text\n",
        "  soup = bs(html)\n",
        "  hrefs = soup.findAll('div', attrs={'class':'sc-image'})\n",
        "  for j in range(len(hrefs)):\n",
        "    try:\n",
        "      img = hrefs[j].find('img', alt=True)\n",
        "      temp=(img['alt'],2)\n",
        "      #print(img['alt'])\n",
        "      entatientmentList.append(temp)\n",
        "    except:\n",
        "      continue\n",
        "\n",
        "for i in range(2, 500):\n",
        "  url = f'https://www.hirunews.lk/local-news.php?pageID={i}'\n",
        "  html = requests.get(url).text\n",
        "  soup = bs(html)\n",
        "  hrefs = soup.findAll('div', attrs={'class':'sc-image'})\n",
        "  for j in range(len(hrefs)):\n",
        "    try:\n",
        "      img = hrefs[j].find('img', alt=True)\n",
        "      temp=(img['alt'],3)\n",
        "      #print(img['alt'])\n",
        "      localList.append(temp)\n",
        "    except:\n",
        "      continue\n",
        "\n",
        "\n",
        "finalList=sportList+entatientmentList+localList\n",
        "\n"
      ],
      "metadata": {
        "id": "6Fe3HeRaSMjp"
      },
      "execution_count": null,
      "outputs": []
    },
    {
      "cell_type": "code",
      "source": [
        "import csv\n",
        "with open('GFG.csv', 'w') as f:  \n",
        "   \n",
        "    write = csv.writer(f)\n",
        "    write.writerows(finalList)"
      ],
      "metadata": {
        "id": "C7xt1nj8675P"
      },
      "execution_count": null,
      "outputs": []
    },
    {
      "cell_type": "code",
      "source": [
        "from bs4 import BeautifulSoup as bs\n",
        "import requests \n",
        "\n",
        "url = f'https://www.saaravita.lk/latest_news/100/181'\n",
        "html = requests.get(url).text\n",
        "soup = bs(html)\n",
        "hrefs = soup.findAll('div', attrs={'class':'sc-image'})\n"
      ],
      "metadata": {
        "id": "4crOPyVd68FT"
      },
      "execution_count": null,
      "outputs": []
    },
    {
      "cell_type": "code",
      "source": [],
      "metadata": {
        "id": "kxy-fHJk621n"
      },
      "execution_count": null,
      "outputs": []
    },
    {
      "cell_type": "code",
      "source": [
        "import numpy as np\n",
        "import matplotlib.pyplot as plt\n",
        "import csv\n",
        "\n",
        "file = open('GFG.csv')\n",
        "csvreader = csv.reader(file)\n",
        "\n",
        "for x in csvreader:\n",
        "  "
      ],
      "metadata": {
        "colab": {
          "base_uri": "https://localhost:8080/"
        },
        "id": "UiOcM3TGiMgB",
        "outputId": "c288c6ed-cc36-4114-b941-085424c965cd"
      },
      "execution_count": null,
      "outputs": [
        {
          "output_type": "execute_result",
          "data": {
            "text/plain": [
              "_csv.reader"
            ]
          },
          "metadata": {},
          "execution_count": 7
        }
      ]
    },
    {
      "cell_type": "code",
      "source": [
        "b'\\xe0\\xb6\\xa0\\xe0\\xb7\\x8f\\xe0\\xb6\\xb8\\xe0\\xb7\\x92\\xe0\\xb6\\x9a \\xe0\\xb6\\x9a\\xe0\\xb6\\xbb\\xe0\\xb7\\x94\\xe0\\xb6\\xab\\xe0\\xb7\\x8f\\xe0\\xb6\\xbb\\xe0\\xb6\\xad\\xe0\\xb7\\x8a\\xe0\\xb6\\xb1 \\xe0\\xb7\\x83\\xe0\\xb6\\x82\\xe0\\xb6\\xa0\\xe0\\xb7\\x92\\xe0\\xb6\\xad\\xe0\\xb6\\xba\\xe0\\xb7\\x99\\xe0\\xb6\\xb1\\xe0\\xb7\\x8a \\xe0\\xb6\\x89\\xe0\\xb7\\x80\\xe0\\xb6\\xad\\xe0\\xb6\\xa7..?'.decode('utf-8')"
      ],
      "metadata": {
        "id": "nKtJFSAlUh65"
      },
      "execution_count": null,
      "outputs": []
    },
    {
      "cell_type": "code",
      "source": [
        "from bs4 import BeautifulSoup as bs\n",
        "import requests \n",
        "\n",
        "techList=[]\n",
        "localList=[]\n",
        "sportsList=[];\n",
        "\n",
        "for i in range(2,3):  \n",
        "  url = f'https://puwath.lk/news/srilanka?page={i}'\n",
        "  html = requests.get(url).text\n",
        "  soup = bs(html)\n",
        "  hrefs = soup.findAll('div', attrs={'class':'article-item'})\n",
        "  for i in range(len(hrefs)):\n",
        "    try:\n",
        "      img = hrefs[i].find('img', alt=True)\n",
        "      techList.append(img['alt'])\n",
        "    except:\n",
        "      continue\n",
        "\n",
        "print(len(techList))\n"
      ],
      "metadata": {
        "colab": {
          "base_uri": "https://localhost:8080/"
        },
        "id": "7PY4_LACbkzd",
        "outputId": "093392a1-0e04-438e-8906-3c2350ca8a72"
      },
      "execution_count": null,
      "outputs": [
        {
          "output_type": "stream",
          "name": "stdout",
          "text": [
            "25\n"
          ]
        }
      ]
    },
    {
      "cell_type": "markdown",
      "source": [
        "#Extract content of the news"
      ],
      "metadata": {
        "id": "mO-C5HJk-KfD"
      }
    },
    {
      "cell_type": "code",
      "source": [
        "from bs4 import BeautifulSoup as bs\n",
        "import requests \n",
        "from tqdm import tqdm\n",
        "sportUrlList=[]\n",
        "localUrlList=[]\n",
        "internationalUrlList=[]\n",
        "\n",
        "for i in tqdm(range(2, 500)):\n",
        "  url = f'https://www.hirunews.lk/sports/all-news.php?pageID={i}'\n",
        "  html = requests.get(url).text\n",
        "  soup = bs(html)\n",
        "  hrefs = soup.findAll('div', attrs={'class':'sc-image'})\n",
        "  for j in range(len(hrefs)):\n",
        "    try:\n",
        "      href_tags=hrefs[j].find(\"a\")\n",
        "      sportUrlList.append(href_tags.attrs['href'])\n",
        "    except:\n",
        "      continue\n",
        "\n",
        "for i in tqdm(range(2, 500)):\n",
        "  url = f'https://www.hirunews.lk/international-news.php?pageID={i}'\n",
        "  html = requests.get(url).text\n",
        "  soup = bs(html)\n",
        "  hrefs = soup.findAll('div', attrs={'class':'sc-image'})\n",
        "  for j in range(len(hrefs)):\n",
        "    try:\n",
        "      href_tags=hrefs[j].find(\"a\")\n",
        "      internationalUrlList.append(href_tags.attrs['href'])\n",
        "    except:\n",
        "      continue\n",
        "\n",
        "for i in tqdm(range(2, 500)):\n",
        "  url = f'https://www.hirunews.lk/local-news.php?pageID={i}'\n",
        "  html = requests.get(url).text\n",
        "  soup = bs(html)\n",
        "  hrefs = soup.findAll('div', attrs={'class':'sc-image'})\n",
        "  for j in range(len(hrefs)):\n",
        "    try:\n",
        "      href_tags=hrefs[j].find(\"a\")\n",
        "      localUrlList.append(href_tags.attrs['href'])\n",
        "    except:\n",
        "      continue"
      ],
      "metadata": {
        "id": "Po9ToXIhM7vH",
        "colab": {
          "base_uri": "https://localhost:8080/",
          "height": 460
        },
        "outputId": "94496b37-31d9-48a1-a3cf-643970264728"
      },
      "execution_count": null,
      "outputs": [
        {
          "output_type": "stream",
          "name": "stderr",
          "text": [
            " 10%|▉         | 49/498 [00:22<03:23,  2.21it/s]\n"
          ]
        },
        {
          "output_type": "error",
          "ename": "KeyboardInterrupt",
          "evalue": "ignored",
          "traceback": [
            "\u001b[0;31m---------------------------------------------------------------------------\u001b[0m",
            "\u001b[0;31mTypeError\u001b[0m                                 Traceback (most recent call last)",
            "\u001b[0;32m/usr/local/lib/python3.8/dist-packages/urllib3/connectionpool.py\u001b[0m in \u001b[0;36m_make_request\u001b[0;34m(self, conn, method, url, timeout, chunked, **httplib_request_kw)\u001b[0m\n\u001b[1;32m    376\u001b[0m             \u001b[0;32mtry\u001b[0m\u001b[0;34m:\u001b[0m  \u001b[0;31m# Python 2.7, use buffering of HTTP responses\u001b[0m\u001b[0;34m\u001b[0m\u001b[0;34m\u001b[0m\u001b[0m\n\u001b[0;32m--> 377\u001b[0;31m                 \u001b[0mhttplib_response\u001b[0m \u001b[0;34m=\u001b[0m \u001b[0mconn\u001b[0m\u001b[0;34m.\u001b[0m\u001b[0mgetresponse\u001b[0m\u001b[0;34m(\u001b[0m\u001b[0mbuffering\u001b[0m\u001b[0;34m=\u001b[0m\u001b[0;32mTrue\u001b[0m\u001b[0;34m)\u001b[0m\u001b[0;34m\u001b[0m\u001b[0;34m\u001b[0m\u001b[0m\n\u001b[0m\u001b[1;32m    378\u001b[0m             \u001b[0;32mexcept\u001b[0m \u001b[0mTypeError\u001b[0m\u001b[0;34m:\u001b[0m  \u001b[0;31m# Python 3\u001b[0m\u001b[0;34m\u001b[0m\u001b[0;34m\u001b[0m\u001b[0m\n",
            "\u001b[0;31mTypeError\u001b[0m: getresponse() got an unexpected keyword argument 'buffering'",
            "\nDuring handling of the above exception, another exception occurred:\n",
            "\u001b[0;31mKeyboardInterrupt\u001b[0m                         Traceback (most recent call last)",
            "\u001b[0;32m<ipython-input-4-33489bbec112>\u001b[0m in \u001b[0;36m<module>\u001b[0;34m\u001b[0m\n\u001b[1;32m      8\u001b[0m \u001b[0;32mfor\u001b[0m \u001b[0mi\u001b[0m \u001b[0;32min\u001b[0m \u001b[0mtqdm\u001b[0m\u001b[0;34m(\u001b[0m\u001b[0mrange\u001b[0m\u001b[0;34m(\u001b[0m\u001b[0;36m2\u001b[0m\u001b[0;34m,\u001b[0m \u001b[0;36m500\u001b[0m\u001b[0;34m)\u001b[0m\u001b[0;34m)\u001b[0m\u001b[0;34m:\u001b[0m\u001b[0;34m\u001b[0m\u001b[0;34m\u001b[0m\u001b[0m\n\u001b[1;32m      9\u001b[0m   \u001b[0murl\u001b[0m \u001b[0;34m=\u001b[0m \u001b[0;34mf'https://www.hirunews.lk/sports/all-news.php?pageID={i}'\u001b[0m\u001b[0;34m\u001b[0m\u001b[0;34m\u001b[0m\u001b[0m\n\u001b[0;32m---> 10\u001b[0;31m   \u001b[0mhtml\u001b[0m \u001b[0;34m=\u001b[0m \u001b[0mrequests\u001b[0m\u001b[0;34m.\u001b[0m\u001b[0mget\u001b[0m\u001b[0;34m(\u001b[0m\u001b[0murl\u001b[0m\u001b[0;34m)\u001b[0m\u001b[0;34m.\u001b[0m\u001b[0mtext\u001b[0m\u001b[0;34m\u001b[0m\u001b[0;34m\u001b[0m\u001b[0m\n\u001b[0m\u001b[1;32m     11\u001b[0m   \u001b[0msoup\u001b[0m \u001b[0;34m=\u001b[0m \u001b[0mbs\u001b[0m\u001b[0;34m(\u001b[0m\u001b[0mhtml\u001b[0m\u001b[0;34m)\u001b[0m\u001b[0;34m\u001b[0m\u001b[0;34m\u001b[0m\u001b[0m\n\u001b[1;32m     12\u001b[0m   \u001b[0mhrefs\u001b[0m \u001b[0;34m=\u001b[0m \u001b[0msoup\u001b[0m\u001b[0;34m.\u001b[0m\u001b[0mfindAll\u001b[0m\u001b[0;34m(\u001b[0m\u001b[0;34m'div'\u001b[0m\u001b[0;34m,\u001b[0m \u001b[0mattrs\u001b[0m\u001b[0;34m=\u001b[0m\u001b[0;34m{\u001b[0m\u001b[0;34m'class'\u001b[0m\u001b[0;34m:\u001b[0m\u001b[0;34m'sc-image'\u001b[0m\u001b[0;34m}\u001b[0m\u001b[0;34m)\u001b[0m\u001b[0;34m\u001b[0m\u001b[0;34m\u001b[0m\u001b[0m\n",
            "\u001b[0;32m/usr/local/lib/python3.8/dist-packages/requests/api.py\u001b[0m in \u001b[0;36mget\u001b[0;34m(url, params, **kwargs)\u001b[0m\n\u001b[1;32m     74\u001b[0m \u001b[0;34m\u001b[0m\u001b[0m\n\u001b[1;32m     75\u001b[0m     \u001b[0mkwargs\u001b[0m\u001b[0;34m.\u001b[0m\u001b[0msetdefault\u001b[0m\u001b[0;34m(\u001b[0m\u001b[0;34m'allow_redirects'\u001b[0m\u001b[0;34m,\u001b[0m \u001b[0;32mTrue\u001b[0m\u001b[0;34m)\u001b[0m\u001b[0;34m\u001b[0m\u001b[0;34m\u001b[0m\u001b[0m\n\u001b[0;32m---> 76\u001b[0;31m     \u001b[0;32mreturn\u001b[0m \u001b[0mrequest\u001b[0m\u001b[0;34m(\u001b[0m\u001b[0;34m'get'\u001b[0m\u001b[0;34m,\u001b[0m \u001b[0murl\u001b[0m\u001b[0;34m,\u001b[0m \u001b[0mparams\u001b[0m\u001b[0;34m=\u001b[0m\u001b[0mparams\u001b[0m\u001b[0;34m,\u001b[0m \u001b[0;34m**\u001b[0m\u001b[0mkwargs\u001b[0m\u001b[0;34m)\u001b[0m\u001b[0;34m\u001b[0m\u001b[0;34m\u001b[0m\u001b[0m\n\u001b[0m\u001b[1;32m     77\u001b[0m \u001b[0;34m\u001b[0m\u001b[0m\n\u001b[1;32m     78\u001b[0m \u001b[0;34m\u001b[0m\u001b[0m\n",
            "\u001b[0;32m/usr/local/lib/python3.8/dist-packages/requests/api.py\u001b[0m in \u001b[0;36mrequest\u001b[0;34m(method, url, **kwargs)\u001b[0m\n\u001b[1;32m     59\u001b[0m     \u001b[0;31m# cases, and look like a memory leak in others.\u001b[0m\u001b[0;34m\u001b[0m\u001b[0;34m\u001b[0m\u001b[0;34m\u001b[0m\u001b[0m\n\u001b[1;32m     60\u001b[0m     \u001b[0;32mwith\u001b[0m \u001b[0msessions\u001b[0m\u001b[0;34m.\u001b[0m\u001b[0mSession\u001b[0m\u001b[0;34m(\u001b[0m\u001b[0;34m)\u001b[0m \u001b[0;32mas\u001b[0m \u001b[0msession\u001b[0m\u001b[0;34m:\u001b[0m\u001b[0;34m\u001b[0m\u001b[0;34m\u001b[0m\u001b[0m\n\u001b[0;32m---> 61\u001b[0;31m         \u001b[0;32mreturn\u001b[0m \u001b[0msession\u001b[0m\u001b[0;34m.\u001b[0m\u001b[0mrequest\u001b[0m\u001b[0;34m(\u001b[0m\u001b[0mmethod\u001b[0m\u001b[0;34m=\u001b[0m\u001b[0mmethod\u001b[0m\u001b[0;34m,\u001b[0m \u001b[0murl\u001b[0m\u001b[0;34m=\u001b[0m\u001b[0murl\u001b[0m\u001b[0;34m,\u001b[0m \u001b[0;34m**\u001b[0m\u001b[0mkwargs\u001b[0m\u001b[0;34m)\u001b[0m\u001b[0;34m\u001b[0m\u001b[0;34m\u001b[0m\u001b[0m\n\u001b[0m\u001b[1;32m     62\u001b[0m \u001b[0;34m\u001b[0m\u001b[0m\n\u001b[1;32m     63\u001b[0m \u001b[0;34m\u001b[0m\u001b[0m\n",
            "\u001b[0;32m/usr/local/lib/python3.8/dist-packages/requests/sessions.py\u001b[0m in \u001b[0;36mrequest\u001b[0;34m(self, method, url, params, data, headers, cookies, files, auth, timeout, allow_redirects, proxies, hooks, stream, verify, cert, json)\u001b[0m\n\u001b[1;32m    540\u001b[0m         }\n\u001b[1;32m    541\u001b[0m         \u001b[0msend_kwargs\u001b[0m\u001b[0;34m.\u001b[0m\u001b[0mupdate\u001b[0m\u001b[0;34m(\u001b[0m\u001b[0msettings\u001b[0m\u001b[0;34m)\u001b[0m\u001b[0;34m\u001b[0m\u001b[0;34m\u001b[0m\u001b[0m\n\u001b[0;32m--> 542\u001b[0;31m         \u001b[0mresp\u001b[0m \u001b[0;34m=\u001b[0m \u001b[0mself\u001b[0m\u001b[0;34m.\u001b[0m\u001b[0msend\u001b[0m\u001b[0;34m(\u001b[0m\u001b[0mprep\u001b[0m\u001b[0;34m,\u001b[0m \u001b[0;34m**\u001b[0m\u001b[0msend_kwargs\u001b[0m\u001b[0;34m)\u001b[0m\u001b[0;34m\u001b[0m\u001b[0;34m\u001b[0m\u001b[0m\n\u001b[0m\u001b[1;32m    543\u001b[0m \u001b[0;34m\u001b[0m\u001b[0m\n\u001b[1;32m    544\u001b[0m         \u001b[0;32mreturn\u001b[0m \u001b[0mresp\u001b[0m\u001b[0;34m\u001b[0m\u001b[0;34m\u001b[0m\u001b[0m\n",
            "\u001b[0;32m/usr/local/lib/python3.8/dist-packages/requests/sessions.py\u001b[0m in \u001b[0;36msend\u001b[0;34m(self, request, **kwargs)\u001b[0m\n\u001b[1;32m    653\u001b[0m \u001b[0;34m\u001b[0m\u001b[0m\n\u001b[1;32m    654\u001b[0m         \u001b[0;31m# Send the request\u001b[0m\u001b[0;34m\u001b[0m\u001b[0;34m\u001b[0m\u001b[0;34m\u001b[0m\u001b[0m\n\u001b[0;32m--> 655\u001b[0;31m         \u001b[0mr\u001b[0m \u001b[0;34m=\u001b[0m \u001b[0madapter\u001b[0m\u001b[0;34m.\u001b[0m\u001b[0msend\u001b[0m\u001b[0;34m(\u001b[0m\u001b[0mrequest\u001b[0m\u001b[0;34m,\u001b[0m \u001b[0;34m**\u001b[0m\u001b[0mkwargs\u001b[0m\u001b[0;34m)\u001b[0m\u001b[0;34m\u001b[0m\u001b[0;34m\u001b[0m\u001b[0m\n\u001b[0m\u001b[1;32m    656\u001b[0m \u001b[0;34m\u001b[0m\u001b[0m\n\u001b[1;32m    657\u001b[0m         \u001b[0;31m# Total elapsed time of the request (approximately)\u001b[0m\u001b[0;34m\u001b[0m\u001b[0;34m\u001b[0m\u001b[0;34m\u001b[0m\u001b[0m\n",
            "\u001b[0;32m/usr/local/lib/python3.8/dist-packages/requests/adapters.py\u001b[0m in \u001b[0;36msend\u001b[0;34m(self, request, stream, timeout, verify, cert, proxies)\u001b[0m\n\u001b[1;32m    437\u001b[0m         \u001b[0;32mtry\u001b[0m\u001b[0;34m:\u001b[0m\u001b[0;34m\u001b[0m\u001b[0;34m\u001b[0m\u001b[0m\n\u001b[1;32m    438\u001b[0m             \u001b[0;32mif\u001b[0m \u001b[0;32mnot\u001b[0m \u001b[0mchunked\u001b[0m\u001b[0;34m:\u001b[0m\u001b[0;34m\u001b[0m\u001b[0;34m\u001b[0m\u001b[0m\n\u001b[0;32m--> 439\u001b[0;31m                 resp = conn.urlopen(\n\u001b[0m\u001b[1;32m    440\u001b[0m                     \u001b[0mmethod\u001b[0m\u001b[0;34m=\u001b[0m\u001b[0mrequest\u001b[0m\u001b[0;34m.\u001b[0m\u001b[0mmethod\u001b[0m\u001b[0;34m,\u001b[0m\u001b[0;34m\u001b[0m\u001b[0;34m\u001b[0m\u001b[0m\n\u001b[1;32m    441\u001b[0m                     \u001b[0murl\u001b[0m\u001b[0;34m=\u001b[0m\u001b[0murl\u001b[0m\u001b[0;34m,\u001b[0m\u001b[0;34m\u001b[0m\u001b[0;34m\u001b[0m\u001b[0m\n",
            "\u001b[0;32m/usr/local/lib/python3.8/dist-packages/urllib3/connectionpool.py\u001b[0m in \u001b[0;36murlopen\u001b[0;34m(self, method, url, body, headers, retries, redirect, assert_same_host, timeout, pool_timeout, release_conn, chunked, body_pos, **response_kw)\u001b[0m\n\u001b[1;32m    595\u001b[0m \u001b[0;34m\u001b[0m\u001b[0m\n\u001b[1;32m    596\u001b[0m             \u001b[0;31m# Make the request on the httplib connection object.\u001b[0m\u001b[0;34m\u001b[0m\u001b[0;34m\u001b[0m\u001b[0;34m\u001b[0m\u001b[0m\n\u001b[0;32m--> 597\u001b[0;31m             httplib_response = self._make_request(conn, method, url,\n\u001b[0m\u001b[1;32m    598\u001b[0m                                                   \u001b[0mtimeout\u001b[0m\u001b[0;34m=\u001b[0m\u001b[0mtimeout_obj\u001b[0m\u001b[0;34m,\u001b[0m\u001b[0;34m\u001b[0m\u001b[0;34m\u001b[0m\u001b[0m\n\u001b[1;32m    599\u001b[0m                                                   \u001b[0mbody\u001b[0m\u001b[0;34m=\u001b[0m\u001b[0mbody\u001b[0m\u001b[0;34m,\u001b[0m \u001b[0mheaders\u001b[0m\u001b[0;34m=\u001b[0m\u001b[0mheaders\u001b[0m\u001b[0;34m,\u001b[0m\u001b[0;34m\u001b[0m\u001b[0;34m\u001b[0m\u001b[0m\n",
            "\u001b[0;32m/usr/local/lib/python3.8/dist-packages/urllib3/connectionpool.py\u001b[0m in \u001b[0;36m_make_request\u001b[0;34m(self, conn, method, url, timeout, chunked, **httplib_request_kw)\u001b[0m\n\u001b[1;32m    378\u001b[0m             \u001b[0;32mexcept\u001b[0m \u001b[0mTypeError\u001b[0m\u001b[0;34m:\u001b[0m  \u001b[0;31m# Python 3\u001b[0m\u001b[0;34m\u001b[0m\u001b[0;34m\u001b[0m\u001b[0m\n\u001b[1;32m    379\u001b[0m                 \u001b[0;32mtry\u001b[0m\u001b[0;34m:\u001b[0m\u001b[0;34m\u001b[0m\u001b[0;34m\u001b[0m\u001b[0m\n\u001b[0;32m--> 380\u001b[0;31m                     \u001b[0mhttplib_response\u001b[0m \u001b[0;34m=\u001b[0m \u001b[0mconn\u001b[0m\u001b[0;34m.\u001b[0m\u001b[0mgetresponse\u001b[0m\u001b[0;34m(\u001b[0m\u001b[0;34m)\u001b[0m\u001b[0;34m\u001b[0m\u001b[0;34m\u001b[0m\u001b[0m\n\u001b[0m\u001b[1;32m    381\u001b[0m                 \u001b[0;32mexcept\u001b[0m \u001b[0mException\u001b[0m \u001b[0;32mas\u001b[0m \u001b[0me\u001b[0m\u001b[0;34m:\u001b[0m\u001b[0;34m\u001b[0m\u001b[0;34m\u001b[0m\u001b[0m\n\u001b[1;32m    382\u001b[0m                     \u001b[0;31m# Remove the TypeError from the exception chain in Python 3;\u001b[0m\u001b[0;34m\u001b[0m\u001b[0;34m\u001b[0m\u001b[0;34m\u001b[0m\u001b[0m\n",
            "\u001b[0;32m/usr/lib/python3.8/http/client.py\u001b[0m in \u001b[0;36mgetresponse\u001b[0;34m(self)\u001b[0m\n\u001b[1;32m   1346\u001b[0m         \u001b[0;32mtry\u001b[0m\u001b[0;34m:\u001b[0m\u001b[0;34m\u001b[0m\u001b[0;34m\u001b[0m\u001b[0m\n\u001b[1;32m   1347\u001b[0m             \u001b[0;32mtry\u001b[0m\u001b[0;34m:\u001b[0m\u001b[0;34m\u001b[0m\u001b[0;34m\u001b[0m\u001b[0m\n\u001b[0;32m-> 1348\u001b[0;31m                 \u001b[0mresponse\u001b[0m\u001b[0;34m.\u001b[0m\u001b[0mbegin\u001b[0m\u001b[0;34m(\u001b[0m\u001b[0;34m)\u001b[0m\u001b[0;34m\u001b[0m\u001b[0;34m\u001b[0m\u001b[0m\n\u001b[0m\u001b[1;32m   1349\u001b[0m             \u001b[0;32mexcept\u001b[0m \u001b[0mConnectionError\u001b[0m\u001b[0;34m:\u001b[0m\u001b[0;34m\u001b[0m\u001b[0;34m\u001b[0m\u001b[0m\n\u001b[1;32m   1350\u001b[0m                 \u001b[0mself\u001b[0m\u001b[0;34m.\u001b[0m\u001b[0mclose\u001b[0m\u001b[0;34m(\u001b[0m\u001b[0;34m)\u001b[0m\u001b[0;34m\u001b[0m\u001b[0;34m\u001b[0m\u001b[0m\n",
            "\u001b[0;32m/usr/lib/python3.8/http/client.py\u001b[0m in \u001b[0;36mbegin\u001b[0;34m(self)\u001b[0m\n\u001b[1;32m    314\u001b[0m         \u001b[0;31m# read until we get a non-100 response\u001b[0m\u001b[0;34m\u001b[0m\u001b[0;34m\u001b[0m\u001b[0;34m\u001b[0m\u001b[0m\n\u001b[1;32m    315\u001b[0m         \u001b[0;32mwhile\u001b[0m \u001b[0;32mTrue\u001b[0m\u001b[0;34m:\u001b[0m\u001b[0;34m\u001b[0m\u001b[0;34m\u001b[0m\u001b[0m\n\u001b[0;32m--> 316\u001b[0;31m             \u001b[0mversion\u001b[0m\u001b[0;34m,\u001b[0m \u001b[0mstatus\u001b[0m\u001b[0;34m,\u001b[0m \u001b[0mreason\u001b[0m \u001b[0;34m=\u001b[0m \u001b[0mself\u001b[0m\u001b[0;34m.\u001b[0m\u001b[0m_read_status\u001b[0m\u001b[0;34m(\u001b[0m\u001b[0;34m)\u001b[0m\u001b[0;34m\u001b[0m\u001b[0;34m\u001b[0m\u001b[0m\n\u001b[0m\u001b[1;32m    317\u001b[0m             \u001b[0;32mif\u001b[0m \u001b[0mstatus\u001b[0m \u001b[0;34m!=\u001b[0m \u001b[0mCONTINUE\u001b[0m\u001b[0;34m:\u001b[0m\u001b[0;34m\u001b[0m\u001b[0;34m\u001b[0m\u001b[0m\n\u001b[1;32m    318\u001b[0m                 \u001b[0;32mbreak\u001b[0m\u001b[0;34m\u001b[0m\u001b[0;34m\u001b[0m\u001b[0m\n",
            "\u001b[0;32m/usr/lib/python3.8/http/client.py\u001b[0m in \u001b[0;36m_read_status\u001b[0;34m(self)\u001b[0m\n\u001b[1;32m    275\u001b[0m \u001b[0;34m\u001b[0m\u001b[0m\n\u001b[1;32m    276\u001b[0m     \u001b[0;32mdef\u001b[0m \u001b[0m_read_status\u001b[0m\u001b[0;34m(\u001b[0m\u001b[0mself\u001b[0m\u001b[0;34m)\u001b[0m\u001b[0;34m:\u001b[0m\u001b[0;34m\u001b[0m\u001b[0;34m\u001b[0m\u001b[0m\n\u001b[0;32m--> 277\u001b[0;31m         \u001b[0mline\u001b[0m \u001b[0;34m=\u001b[0m \u001b[0mstr\u001b[0m\u001b[0;34m(\u001b[0m\u001b[0mself\u001b[0m\u001b[0;34m.\u001b[0m\u001b[0mfp\u001b[0m\u001b[0;34m.\u001b[0m\u001b[0mreadline\u001b[0m\u001b[0;34m(\u001b[0m\u001b[0m_MAXLINE\u001b[0m \u001b[0;34m+\u001b[0m \u001b[0;36m1\u001b[0m\u001b[0;34m)\u001b[0m\u001b[0;34m,\u001b[0m \u001b[0;34m\"iso-8859-1\"\u001b[0m\u001b[0;34m)\u001b[0m\u001b[0;34m\u001b[0m\u001b[0;34m\u001b[0m\u001b[0m\n\u001b[0m\u001b[1;32m    278\u001b[0m         \u001b[0;32mif\u001b[0m \u001b[0mlen\u001b[0m\u001b[0;34m(\u001b[0m\u001b[0mline\u001b[0m\u001b[0;34m)\u001b[0m \u001b[0;34m>\u001b[0m \u001b[0m_MAXLINE\u001b[0m\u001b[0;34m:\u001b[0m\u001b[0;34m\u001b[0m\u001b[0;34m\u001b[0m\u001b[0m\n\u001b[1;32m    279\u001b[0m             \u001b[0;32mraise\u001b[0m \u001b[0mLineTooLong\u001b[0m\u001b[0;34m(\u001b[0m\u001b[0;34m\"status line\"\u001b[0m\u001b[0;34m)\u001b[0m\u001b[0;34m\u001b[0m\u001b[0;34m\u001b[0m\u001b[0m\n",
            "\u001b[0;32m/usr/lib/python3.8/socket.py\u001b[0m in \u001b[0;36mreadinto\u001b[0;34m(self, b)\u001b[0m\n\u001b[1;32m    667\u001b[0m         \u001b[0;32mwhile\u001b[0m \u001b[0;32mTrue\u001b[0m\u001b[0;34m:\u001b[0m\u001b[0;34m\u001b[0m\u001b[0;34m\u001b[0m\u001b[0m\n\u001b[1;32m    668\u001b[0m             \u001b[0;32mtry\u001b[0m\u001b[0;34m:\u001b[0m\u001b[0;34m\u001b[0m\u001b[0;34m\u001b[0m\u001b[0m\n\u001b[0;32m--> 669\u001b[0;31m                 \u001b[0;32mreturn\u001b[0m \u001b[0mself\u001b[0m\u001b[0;34m.\u001b[0m\u001b[0m_sock\u001b[0m\u001b[0;34m.\u001b[0m\u001b[0mrecv_into\u001b[0m\u001b[0;34m(\u001b[0m\u001b[0mb\u001b[0m\u001b[0;34m)\u001b[0m\u001b[0;34m\u001b[0m\u001b[0;34m\u001b[0m\u001b[0m\n\u001b[0m\u001b[1;32m    670\u001b[0m             \u001b[0;32mexcept\u001b[0m \u001b[0mtimeout\u001b[0m\u001b[0;34m:\u001b[0m\u001b[0;34m\u001b[0m\u001b[0;34m\u001b[0m\u001b[0m\n\u001b[1;32m    671\u001b[0m                 \u001b[0mself\u001b[0m\u001b[0;34m.\u001b[0m\u001b[0m_timeout_occurred\u001b[0m \u001b[0;34m=\u001b[0m \u001b[0;32mTrue\u001b[0m\u001b[0;34m\u001b[0m\u001b[0;34m\u001b[0m\u001b[0m\n",
            "\u001b[0;32m/usr/lib/python3.8/ssl.py\u001b[0m in \u001b[0;36mrecv_into\u001b[0;34m(self, buffer, nbytes, flags)\u001b[0m\n\u001b[1;32m   1239\u001b[0m                   \u001b[0;34m\"non-zero flags not allowed in calls to recv_into() on %s\"\u001b[0m \u001b[0;34m%\u001b[0m\u001b[0;34m\u001b[0m\u001b[0;34m\u001b[0m\u001b[0m\n\u001b[1;32m   1240\u001b[0m                   self.__class__)\n\u001b[0;32m-> 1241\u001b[0;31m             \u001b[0;32mreturn\u001b[0m \u001b[0mself\u001b[0m\u001b[0;34m.\u001b[0m\u001b[0mread\u001b[0m\u001b[0;34m(\u001b[0m\u001b[0mnbytes\u001b[0m\u001b[0;34m,\u001b[0m \u001b[0mbuffer\u001b[0m\u001b[0;34m)\u001b[0m\u001b[0;34m\u001b[0m\u001b[0;34m\u001b[0m\u001b[0m\n\u001b[0m\u001b[1;32m   1242\u001b[0m         \u001b[0;32melse\u001b[0m\u001b[0;34m:\u001b[0m\u001b[0;34m\u001b[0m\u001b[0;34m\u001b[0m\u001b[0m\n\u001b[1;32m   1243\u001b[0m             \u001b[0;32mreturn\u001b[0m \u001b[0msuper\u001b[0m\u001b[0;34m(\u001b[0m\u001b[0;34m)\u001b[0m\u001b[0;34m.\u001b[0m\u001b[0mrecv_into\u001b[0m\u001b[0;34m(\u001b[0m\u001b[0mbuffer\u001b[0m\u001b[0;34m,\u001b[0m \u001b[0mnbytes\u001b[0m\u001b[0;34m,\u001b[0m \u001b[0mflags\u001b[0m\u001b[0;34m)\u001b[0m\u001b[0;34m\u001b[0m\u001b[0;34m\u001b[0m\u001b[0m\n",
            "\u001b[0;32m/usr/lib/python3.8/ssl.py\u001b[0m in \u001b[0;36mread\u001b[0;34m(self, len, buffer)\u001b[0m\n\u001b[1;32m   1097\u001b[0m         \u001b[0;32mtry\u001b[0m\u001b[0;34m:\u001b[0m\u001b[0;34m\u001b[0m\u001b[0;34m\u001b[0m\u001b[0m\n\u001b[1;32m   1098\u001b[0m             \u001b[0;32mif\u001b[0m \u001b[0mbuffer\u001b[0m \u001b[0;32mis\u001b[0m \u001b[0;32mnot\u001b[0m \u001b[0;32mNone\u001b[0m\u001b[0;34m:\u001b[0m\u001b[0;34m\u001b[0m\u001b[0;34m\u001b[0m\u001b[0m\n\u001b[0;32m-> 1099\u001b[0;31m                 \u001b[0;32mreturn\u001b[0m \u001b[0mself\u001b[0m\u001b[0;34m.\u001b[0m\u001b[0m_sslobj\u001b[0m\u001b[0;34m.\u001b[0m\u001b[0mread\u001b[0m\u001b[0;34m(\u001b[0m\u001b[0mlen\u001b[0m\u001b[0;34m,\u001b[0m \u001b[0mbuffer\u001b[0m\u001b[0;34m)\u001b[0m\u001b[0;34m\u001b[0m\u001b[0;34m\u001b[0m\u001b[0m\n\u001b[0m\u001b[1;32m   1100\u001b[0m             \u001b[0;32melse\u001b[0m\u001b[0;34m:\u001b[0m\u001b[0;34m\u001b[0m\u001b[0;34m\u001b[0m\u001b[0m\n\u001b[1;32m   1101\u001b[0m                 \u001b[0;32mreturn\u001b[0m \u001b[0mself\u001b[0m\u001b[0;34m.\u001b[0m\u001b[0m_sslobj\u001b[0m\u001b[0;34m.\u001b[0m\u001b[0mread\u001b[0m\u001b[0;34m(\u001b[0m\u001b[0mlen\u001b[0m\u001b[0;34m)\u001b[0m\u001b[0;34m\u001b[0m\u001b[0;34m\u001b[0m\u001b[0m\n",
            "\u001b[0;31mKeyboardInterrupt\u001b[0m: "
          ]
        }
      ]
    },
    {
      "cell_type": "code",
      "source": [
        "sportContentList=[]\n",
        "internationalContentList=[]\n",
        "localContentList=[]\n",
        "for i in tqdm(internationalUrlList):\n",
        "  html = requests.get(i).text\n",
        "  soup = bs(html)\n",
        "  result = soup.find('div', attrs={'id':'article-phara'}).get_text().split('\\r')\n",
        "  temp=(result[0].strip(),2)\n",
        "  internationalContentList.append(temp)\n",
        "\n",
        "for i in tqdm(sportUrlList):\n",
        "  html = requests.get(i).text\n",
        "  soup = bs(html)\n",
        "  result = soup.find('div', attrs={'id':'article-phara'}).get_text().split('\\r')\n",
        "  temp=(result[0].strip(),1)\n",
        "  sportContentList.append(temp)\n",
        "  \n",
        "for i in tqdm(localUrlList):\n",
        "  html = requests.get(i).text\n",
        "  soup = bs(html)\n",
        "  result = soup.find('div', attrs={'id':'article-phara'}).get_text().split('\\r')\n",
        "  temp=(result[0].strip(),3)\n",
        "  localContentList.append(temp)"
      ],
      "metadata": {
        "id": "8GApXGBp-_RB"
      },
      "execution_count": null,
      "outputs": []
    },
    {
      "cell_type": "code",
      "source": [],
      "metadata": {
        "id": "IqD6K6Wgk54c"
      },
      "execution_count": null,
      "outputs": []
    },
    {
      "cell_type": "code",
      "source": [
        "finalList=sportContentList+internationalContentList+localContentList\n",
        "import csv\n",
        "with open('GFG.csv', 'w') as f:  \n",
        "   \n",
        "    write = csv.writer(f)\n",
        "    write.writerows(finalList)"
      ],
      "metadata": {
        "id": "USK1W5-aYpyO"
      },
      "execution_count": null,
      "outputs": []
    },
    {
      "cell_type": "code",
      "source": [
        "finalList"
      ],
      "metadata": {
        "colab": {
          "base_uri": "https://localhost:8080/"
        },
        "id": "EVCMIUHVk8zo",
        "outputId": "52b0e5d1-958e-4539-e096-1eaec5043fbb"
      },
      "execution_count": null,
      "outputs": [
        {
          "output_type": "execute_result",
          "data": {
            "text/plain": [
              "[('බංග්ලාදේශය සමග අනිද්දා ආරම්භ වන තරග දෙකකින් යුත් ටෙස්ට් තරගාවලියේ පළමු තරගයට ඉන්දීය කණ්ඩායමේ නායක රෝහිත් ශර්මා ක්\\u200dරීඩා නොකරන බව එරට ක්\\u200dරිකට් ආයතනය පවසනවා. ඒ ආබාධයකට ලක්වීම හේතුවෙන්.ඒ අනුව, බංග්ලාදේශයට එරෙහිව චිතගොන්හි ආරම්භ වන පළමු තරගයේ වගකීම භාරව ඇත්තේ ලෝකේෂ් රාහුල්ටයි. දෙරට අතර පැවති එක්දින තරගාවලිය දෙකට එකක් ලෙස ජය ගත්තේ බංග්ලාදේශයයි.',\n",
              "  1),\n",
              " ('එංගලන්තයේ “ද හන්ඩ්\\u200dරඩ්” තරඟාවලියේ සදර්න් බ්\\u200dරේව් කණ්ඩායමේ ප්\\u200dරධාන පුහුණුකරු ධුරයෙන් ලබන වසරේ දී ඉවත් වීමට හිටපු ක්\\u200dරිකට් ක්\\u200dරීඩක මහේල ජයවර්ධන තිරණය තිබෙනවා. ඒ ඉන්දියාවේ රිලායන්ස් ආයතනයේ ප්\\u200dරධාන පුහුණුකරු ධුරය හිමිවීමත් සමඟ යි.අයි.පී.එල්. ක්\\u200dරිකට් තරගාවලියේ මුම්බායි ඉන්දියන්ස් කණ්ඩායම අයත් වන්නේ ද මෙම රිලායන්ස් ආයතනයටයි. ඉන්දියාවේ ප්\\u200dරධාන ක්\\u200dරිකට් තරගවල දී ඇතැම් කණ්ඩායම් මිලට ගැනීම ද රිලායන්ස් ආයතනය විසින් සිදු කර තිබෙනවා.',\n",
              "  1),\n",
              " ('ඉර නැග එන හා ඉර බැසයන දසුන සීගිරිය පව්ව මත සිට දිනපතා නැරඹීම සඳහා දේශීය හා විදේශීය සංචාරකයන්ට අවස්ථාව ලබාදීමට පියවර ගෙන තිබෙනවා.ඒ අනුව මින් ඉදිරියට සීගිරිය නැරඹීම් සඳහා අළුයම 5.30 සිට රාත්\\u200dරි 09 පමණ වන තුරු අවසරය ලබා දෙන බව ඉර සේවය නැරඹීමේ ආරම්භක අවස්ථාවටඑක් වූ බුද්ධද්ධ ශාසන, ආගමික හා සංස්කෘතික කටයුතු අමාත්\\u200dය විදුර වික්\\u200dරරමනායක ප්\\u200dරකාශ කළා.',\n",
              "  2),\n",
              " ('ඇෆ්ගනිස්ථානයේ විදේශ කටයුතු අමාත්\\u200dයාංශය ඉදිරිපිට සිදුවූ මාරාගෙන මැරෙන බෝම්බ ප්\\u200dරහාරයකින් 20දෙනෙකු ජිවිතක්ෂයට පත්ව තිබෙනවා. බෝම්බකරු විසින් අමාත්\\u200dයාංශය තුළට පැමිණි පිපිරීම සිදුකර ගැනිමට උත්සාහකර ඇති අතර එය ව්\\u200dයර්ථ වී ඇති බවයි විදෙස් මාධ්\\u200dය වාර්තා සඳහන් කළේ. පිපිරීම සිදුවූ ප්\\u200dරදේශය තුළ තුර්කිය සහ චීනය ඇතුළු තවත් රටවල් කිහිපයක තානාපති කාර්යාලය පිහිටා තිබෙනවා. අදාළ ප්\\u200dරහාරයේ වගකීම අයි.එස්.අයි.එස්.කේ නමින් හඳුන්වනු ලබන ත්\\u200dරස්ත සංවිධානය විසින් භාරගෙන ඇති බවයි විදෙස් වාර්තා සඳහන් කළේ.',\n",
              "  2),\n",
              " ('සිය පාසල් ජීවිතය තුළ එක් ක්\\u200dරීඩාවක් හෝ සිදු කිරීම දරුවන්ට අනිවාර්\\u200dයය කළ යුතු බවත්, ඒ සඳහා නිසි වැඩපිළිවෙළක් සකස් කර යුතු බවත් පොදු රාජ්\\u200dය මණ්ඩලීය මහලේකම් පැට්\\u200dරිෂියා ස්කොට්ලන්ඩ් පවසනවා.ඊයේ (02) පොදු රාජ්\\u200dය මණ්ඩලීය මහ ලේකම්වරිය සහ ක්\\u200dරීඩා හා යෞවන කටයුතු අමාත්\\u200dය රොෂාන් රණසිංහ අතර පැවැති හමුවේදියි ඇය මේ බව සඳහන් කළේ.ක්\\u200dරීඩා හා යෞවන කටයුතු අමාත්\\u200dයාංශයේ දී පැවති මෙම හමුවේදී වැඩිදුරටත් අදහස් පළ කරමින් ස්කොට්ලන්ඩ් මහලේකම්වරිය පෙන්වාදුන්නේ පාසල් ළමුන් අතර බෝ නොවන රෝග පාලනය කිරීම උදෙසා පාසල් කාල සීමාව තුළ හෝ ඉන් පසුව ක්\\u200dරීඩා හෝ ශාරීරික සුවතා ව්\\u200dයායාම සඳහා යොමු කිරීමට අවධානය යොමු කළ යුතු බවයි.එමෙන්ම 2023 වර්ෂය උදෙසා ක්\\u200dරීඩා හා යෞවන කටයුතු අමාත්\\u200dයාංශය හා ඒ හා සම්බන්ධ අනෙකුත් ආයතනවල සැලැස්ම හා එම කටයුතු අධීක්ෂණය කර පොදු රාජ්\\u200dය මණ්ඩලයේ අනෙකුත් රටවල් සමග එම වැඩපිළිවෙළ හුවමාරු කර ගැනීමට ද මෙහිදී සාකච්ඡා කෙරුණා.ආසියා හා පැසිපික් කලාපයේ යොවුන් පාර්ලිමේන්තුව පිහිටුවීම සඳහා මූලිකත්වය ගැනීමට ක්\\u200dරීඩා හා යෞවන කටයුතු අමාත්\\u200dයාංශයට අවස්ථාව ලබාදීම පිළිබඳවත් පැවති සාකච්ඡාවේ දී දෙපිරිස අතර අදහස් හුවමාරු වීම සිදු වුණා.',\n",
              "  3),\n",
              " ('අයවැය චක්\\u200dරලේඛනයට අදාළව රාජ්\\u200dය වියදම් පාලනය කිරීම සම්බන්ධයෙන් වන විශේෂ නිවේදනයක් මුදල්, ආර්ථික ස්ථායීකරණ සහ ජාතික ප්\\u200dරතිපත්ති අමාත්\\u200dයාංශය විසින් නිකුත් කර තිබෙනවා.පවතින අයහපත් හා අනපේක්ෂිත ආර්ථික තත්ත්වය තුළ රාජ්\\u200dය මූල්\\u200dය කළමනාකරණය සම්බන්ධයෙන් මතුව ඇති දුෂ්කරතා පිළිබඳ මේ දක්වා නිකුත් කරන ලද අයවැය චක්\\u200dරලේඛ මගින් දැනුම්දී ඇති බවයි එම නිවේදනයේ දැක්වෙන්නේ.මෑතකදී සිදු කරන ලද බදු සංශෝධන තුළින් අපේක්ෂිත ඉලක්ක සපුරාගන්නා තෙක් අත්\\u200dයවශ්\\u200dය ම රාජ්\\u200dය සේවා බාධාවකින් තොරව පවත්වාගෙන යාමට පමණක් අක්මුදල් නිදහස් කිරීමට ජනවාරි මස 30 වැනි දිනැති අමාත්\\u200dය මණ්ඩල තීරණය මගින් උපදෙස් ලැබී තිබෙනවා.ඒ අනුව වැටුප්, විශ්\\u200dරාම වැටුප්, සුබ සාධන වියදම්, වෛද්\\u200dය සැපයීම්, ණය සේවාකරණය සහ ඉහත අයවැය චක්\\u200dරලේඛන මගින් ප්\\u200dරමුඛතාගත කර ඇති අත්\\u200dයවශ්\\u200dය වියදම් සඳහා පමණක් භාණ්ඩාගාර නියෝජ්\\u200dය ලේකම්ගේ නිල බැංකු ගිණුම මත පවතින ද්\\u200dරවශීලතාවය සලකා බැලීමෙන් පසු අක්මුදල් නිදහස් කිරීමට භාණ්ඩාගාරය විසින් කටයුතු කරනු ලැබූ බවයි මුදල් අමාත්\\u200dයාංශය පෙන්වාදෙන්නේ.මෙම ඉහත කොන්දේසිවලට පටහැනිව යම් බැඳීමක් නිලධාරින් විසින් ඇති කර නොගත යුතු අතර එවැනි නියමයන් කඩකරන නිලධාරින් පුද්ගලිකව ම ඒ සඳහා වගකිව යුතු බව ද අදාළ අමාත්\\u200dය මණ්ඩල තීරණයේ සඳහන්.',\n",
              "  3)]"
            ]
          },
          "metadata": {},
          "execution_count": 99
        }
      ]
    },
    {
      "cell_type": "code",
      "source": [],
      "metadata": {
        "id": "fljeBzkPk-AK"
      },
      "execution_count": null,
      "outputs": []
    }
  ]
}