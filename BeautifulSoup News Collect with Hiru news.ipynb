{
  "cells": [
    {
      "cell_type": "markdown",
      "metadata": {
        "id": "view-in-github",
        "colab_type": "text"
      },
      "source": [
        "<a href=\"https://colab.research.google.com/github/DeshanHarshana/Sinhala-News-Classification/blob/main/BeautifulSoup%20News%20Collect%20with%20Hiru%20news.ipynb\" target=\"_parent\"><img src=\"https://colab.research.google.com/assets/colab-badge.svg\" alt=\"Open In Colab\"/></a>"
      ]
    },
    {
      "cell_type": "code",
      "execution_count": null,
      "metadata": {
        "colab": {
          "base_uri": "https://localhost:8080/",
          "height": 334
        },
        "id": "11OiKXPfMUP2",
        "outputId": "5c6fd65d-f830-4212-df32-f054943730a4"
      },
      "outputs": [
        {
          "name": "stderr",
          "output_type": "stream",
          "text": [
            "100%|██████████| 498/498 [09:39<00:00,  1.16s/it]\n",
            "100%|██████████| 498/498 [07:38<00:00,  1.09it/s]\n",
            "100%|██████████| 498/498 [02:29<00:00,  3.32it/s]\n",
            "100%|██████████| 9960/9960 [35:56<00:00,  4.62it/s]\n",
            "100%|██████████| 9960/9960 [27:28<00:00,  6.04it/s]\n",
            " 90%|████████▉ | 11182/12450 [32:30<03:41,  5.73it/s]\n"
          ]
        },
        {
          "ename": "AttributeError",
          "evalue": "ignored",
          "output_type": "error",
          "traceback": [
            "\u001b[0;31m---------------------------------------------------------------------------\u001b[0m",
            "\u001b[0;31mAttributeError\u001b[0m                            Traceback (most recent call last)",
            "\u001b[0;32m<ipython-input-17-959be3586a32>\u001b[0m in \u001b[0;36m<module>\u001b[0;34m\u001b[0m\n\u001b[1;32m     64\u001b[0m   \u001b[0mhtml\u001b[0m \u001b[0;34m=\u001b[0m \u001b[0mrequests\u001b[0m\u001b[0;34m.\u001b[0m\u001b[0mget\u001b[0m\u001b[0;34m(\u001b[0m\u001b[0mi\u001b[0m\u001b[0;34m)\u001b[0m\u001b[0;34m.\u001b[0m\u001b[0mtext\u001b[0m\u001b[0;34m\u001b[0m\u001b[0;34m\u001b[0m\u001b[0m\n\u001b[1;32m     65\u001b[0m   \u001b[0msoup\u001b[0m \u001b[0;34m=\u001b[0m \u001b[0mbs\u001b[0m\u001b[0;34m(\u001b[0m\u001b[0mhtml\u001b[0m\u001b[0;34m)\u001b[0m\u001b[0;34m\u001b[0m\u001b[0;34m\u001b[0m\u001b[0m\n\u001b[0;32m---> 66\u001b[0;31m   \u001b[0mresult\u001b[0m \u001b[0;34m=\u001b[0m \u001b[0msoup\u001b[0m\u001b[0;34m.\u001b[0m\u001b[0mfind\u001b[0m\u001b[0;34m(\u001b[0m\u001b[0;34m'div'\u001b[0m\u001b[0;34m,\u001b[0m \u001b[0mattrs\u001b[0m\u001b[0;34m=\u001b[0m\u001b[0;34m{\u001b[0m\u001b[0;34m'id'\u001b[0m\u001b[0;34m:\u001b[0m\u001b[0;34m'article-phara'\u001b[0m\u001b[0;34m}\u001b[0m\u001b[0;34m)\u001b[0m\u001b[0;34m.\u001b[0m\u001b[0mget_text\u001b[0m\u001b[0;34m(\u001b[0m\u001b[0;34m)\u001b[0m\u001b[0;34m.\u001b[0m\u001b[0msplit\u001b[0m\u001b[0;34m(\u001b[0m\u001b[0;34m'\\r'\u001b[0m\u001b[0;34m)\u001b[0m\u001b[0;34m\u001b[0m\u001b[0;34m\u001b[0m\u001b[0m\n\u001b[0m\u001b[1;32m     67\u001b[0m   \u001b[0mtemp\u001b[0m\u001b[0;34m=\u001b[0m\u001b[0;34m(\u001b[0m\u001b[0mresult\u001b[0m\u001b[0;34m[\u001b[0m\u001b[0;36m0\u001b[0m\u001b[0;34m]\u001b[0m\u001b[0;34m.\u001b[0m\u001b[0mstrip\u001b[0m\u001b[0;34m(\u001b[0m\u001b[0;34m)\u001b[0m\u001b[0;34m,\u001b[0m\u001b[0;36m3\u001b[0m\u001b[0;34m)\u001b[0m\u001b[0;34m\u001b[0m\u001b[0;34m\u001b[0m\u001b[0m\n\u001b[1;32m     68\u001b[0m   \u001b[0mlocalContentList\u001b[0m\u001b[0;34m.\u001b[0m\u001b[0mappend\u001b[0m\u001b[0;34m(\u001b[0m\u001b[0mtemp\u001b[0m\u001b[0;34m)\u001b[0m\u001b[0;34m\u001b[0m\u001b[0;34m\u001b[0m\u001b[0m\n",
            "\u001b[0;31mAttributeError\u001b[0m: 'NoneType' object has no attribute 'get_text'"
          ]
        }
      ],
      "source": [
        "from bs4 import BeautifulSoup as bs\n",
        "import requests \n",
        "from tqdm import tqdm\n",
        "import csv\n",
        "sportUrlList=[]\n",
        "localUrlList=[]\n",
        "internationalUrlList=[]\n",
        "\n",
        "for i in tqdm(range(2, 500)):\n",
        "  url = f'https://www.hirunews.lk/sports/all-news.php?pageID={i}'\n",
        "  html = requests.get(url).text\n",
        "  soup = bs(html)\n",
        "  hrefs = soup.findAll('div', attrs={'class':'sc-image'})\n",
        "  for j in range(len(hrefs)):\n",
        "    try:\n",
        "      href_tags=hrefs[j].find(\"a\")\n",
        "      sportUrlList.append(href_tags.attrs['href'])\n",
        "    except:\n",
        "      continue\n",
        "\n",
        "for i in tqdm(range(2, 500)):\n",
        "  url = f'https://www.hirunews.lk/international-news.php?pageID={i}'\n",
        "  html = requests.get(url).text\n",
        "  soup = bs(html)\n",
        "  hrefs = soup.findAll('div', attrs={'class':'sc-image'})\n",
        "  for j in range(len(hrefs)):\n",
        "    try:\n",
        "      href_tags=hrefs[j].find(\"a\")\n",
        "      internationalUrlList.append(href_tags.attrs['href'])\n",
        "    except:\n",
        "      continue\n",
        "\n",
        "for i in tqdm(range(2, 500)):\n",
        "  url = f'https://www.hirunews.lk/local-news.php?pageID={i}'\n",
        "  html = requests.get(url).text\n",
        "  soup = bs(html)\n",
        "  hrefs = soup.findAll('div', attrs={'class':'sc-image'})\n",
        "  for j in range(len(hrefs)):\n",
        "    try:\n",
        "      href_tags=hrefs[j].find(\"a\")\n",
        "      localUrlList.append(href_tags.attrs['href'])\n",
        "    except:\n",
        "      continue\n",
        "\n",
        "\n",
        "sportContentList=[]\n",
        "internationalContentList=[]\n",
        "localContentList=[]\n",
        "for i in tqdm(internationalUrlList):\n",
        "  html = requests.get(i).text\n",
        "  soup = bs(html)\n",
        "  result = soup.find('div', attrs={'id':'article-phara'}).get_text().split('\\r')\n",
        "  temp=(result[0].strip(),2)\n",
        "  internationalContentList.append(temp)\n",
        "\n",
        "for i in tqdm(sportUrlList):\n",
        "  html = requests.get(i).text\n",
        "  soup = bs(html)\n",
        "  result = soup.find('div', attrs={'id':'article-phara'}).get_text().split('\\r')\n",
        "  temp=(result[0].strip(),1)\n",
        "  sportContentList.append(temp)\n",
        "  \n",
        "for i in tqdm(localUrlList):\n",
        "  html = requests.get(i).text\n",
        "  soup = bs(html)\n",
        "  result = soup.find('div', attrs={'id':'article-phara'}).get_text().split('\\r')\n",
        "  temp=(result[0].strip(),3)\n",
        "  localContentList.append(temp)\n",
        "\n",
        "finalList=sportContentList+internationalContentList+localContentList\n",
        "\n",
        "with open('GFG.csv', 'w') as f:  \n",
        "   \n",
        "    write = csv.writer(f)\n",
        "    write.writerows(finalList)"
      ]
    },
    {
      "cell_type": "code",
      "execution_count": null,
      "metadata": {
        "id": "3r4UH7oMtxAJ"
      },
      "outputs": [],
      "source": [
        "finalList=sportContentList+internationalContentList+localContentList\n",
        "\n",
        "with open('GFG.csv', 'w') as f:  \n",
        "   \n",
        "    write = csv.writer(f)\n",
        "    write.writerows(finalList)"
      ]
    },
    {
      "cell_type": "code",
      "execution_count": null,
      "metadata": {
        "id": "K_507fPTt5dc"
      },
      "outputs": [],
      "source": [
        "import pandas as pd\n",
        "data=pd.read_csv('GFG.csv')"
      ]
    },
    {
      "cell_type": "code",
      "execution_count": null,
      "metadata": {
        "id": "7GHDFuhQuLEl"
      },
      "outputs": [],
      "source": [
        "headers =  ['News', 'Label']\n",
        "data.columns = headers"
      ]
    },
    {
      "cell_type": "code",
      "execution_count": null,
      "metadata": {
        "colab": {
          "base_uri": "https://localhost:8080/"
        },
        "id": "um3KMkG4uK7r",
        "outputId": "7cc23922-c494-42d9-9853-0d4d6107d2f0"
      },
      "outputs": [
        {
          "data": {
            "text/plain": [
              "3    11182\n",
              "2     9960\n",
              "1     9959\n",
              "Name: Label, dtype: int64"
            ]
          },
          "execution_count": 31,
          "metadata": {},
          "output_type": "execute_result"
        }
      ],
      "source": [
        "data.Label.value_counts()"
      ]
    },
    {
      "cell_type": "code",
      "execution_count": null,
      "metadata": {
        "colab": {
          "background_save": true
        },
        "id": "RHbP0TMGvx0h",
        "outputId": "cdb85d1a-fd30-459a-c08f-93c16b5433a4"
      },
      "outputs": [
        {
          "name": "stdout",
          "output_type": "stream",
          "text": [
            "52143790\n"
          ]
        }
      ],
      "source": [
        "from pathlib import Path\n",
        "  \n",
        "sz = Path('Data.csv').stat().st_size\n",
        "  \n",
        "print(sz)"
      ]
    }
  ],
  "metadata": {
    "colab": {
      "provenance": [],
      "authorship_tag": "ABX9TyMf+28imnlWd3TkS6rKSO5R",
      "include_colab_link": true
    },
    "kernelspec": {
      "display_name": "Python 3",
      "name": "python3"
    },
    "language_info": {
      "name": "python"
    }
  },
  "nbformat": 4,
  "nbformat_minor": 0
}