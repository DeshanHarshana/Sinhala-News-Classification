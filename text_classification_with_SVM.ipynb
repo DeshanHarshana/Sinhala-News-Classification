{
  "nbformat": 4,
  "nbformat_minor": 0,
  "metadata": {
    "colab": {
      "provenance": [],
      "authorship_tag": "ABX9TyOpMX+z7OwIklxjFDEGFOBM",
      "include_colab_link": true
    },
    "kernelspec": {
      "name": "python3",
      "display_name": "Python 3"
    },
    "language_info": {
      "name": "python"
    }
  },
  "cells": [
    {
      "cell_type": "markdown",
      "metadata": {
        "id": "view-in-github",
        "colab_type": "text"
      },
      "source": [
        "<a href=\"https://colab.research.google.com/github/DeshanHarshana/Sinhala-News-Classification/blob/main/text_classification_with_SVM.ipynb\" target=\"_parent\"><img src=\"https://colab.research.google.com/assets/colab-badge.svg\" alt=\"Open In Colab\"/></a>"
      ]
    },
    {
      "cell_type": "code",
      "execution_count": 2,
      "metadata": {
        "colab": {
          "base_uri": "https://localhost:8080/"
        },
        "id": "DLf79MqJEZKc",
        "outputId": "26b21c1b-c3d8-4aa9-8319-80f196b2416e"
      },
      "outputs": [
        {
          "output_type": "stream",
          "name": "stdout",
          "text": [
            "Mounted at /content/drive\n",
            "/content/drive/My Drive/datasets\n",
            " beautfulsoup.py\t       GFG.csv\t\t       news.txt\n",
            " cache_dir\t\t       kaggel.csv\t       outputs\n",
            " cc.si.300.bin\t\t       mixedData.csv\t       preprocessed_content.csv\n",
            " cleaned_data.csv\t       mixed-news-headlines    puwathcomheadlines.csv\n",
            " Contents.csv\t\t       month\t\t       result\n",
            " data.csv\t\t       Month\t\t       runs\n",
            " DataScience\t\t       Month-Content\t       stem_dictonary.txt\n",
            "'fasttext_trained model.bin'   Month-Contents\t       stopwords.txt\n",
            " file1.csv\t\t       my-word2vec-model.bin   sufix_list.txt\n",
            " file_name.csv\t\t       news.test\t       test.csv\n",
            " file.txt\t\t       news.train\n"
          ]
        }
      ],
      "source": [
        "import pandas as pd\n",
        "from sklearn.feature_extraction.text import TfidfVectorizer\n",
        "from sklearn import svm, naive_bayes\n",
        "from sklearn.metrics import accuracy_score\n",
        "from sklearn.model_selection import train_test_split\n",
        "from google.colab import drive\n",
        "drive.mount('/content/drive')\n",
        "%cd /content/drive/My Drive/datasets/\n",
        "!ls"
      ]
    },
    {
      "cell_type": "code",
      "source": [
        "data= pd.read_csv(\"cleaned_data.csv\")\n",
        "data.head(3)\n",
        "data.shape"
      ],
      "metadata": {
        "colab": {
          "base_uri": "https://localhost:8080/"
        },
        "id": "B_hbxwavOWys",
        "outputId": "478fa233-4faa-4ed7-9ac3-c245228b5c30"
      },
      "execution_count": 4,
      "outputs": [
        {
          "output_type": "execute_result",
          "data": {
            "text/plain": [
              "(32295, 2)"
            ]
          },
          "metadata": {},
          "execution_count": 4
        }
      ]
    },
    {
      "cell_type": "code",
      "source": [
        "from sklearn.model_selection import train_test_split\n",
        "X_train, X_test,y_train, y_test = train_test_split(data['News'],data['Label'],random_state=104,test_size=0.25,shuffle=True)\n"
      ],
      "metadata": {
        "id": "AOlRPwkhOsY8"
      },
      "execution_count": 5,
      "outputs": []
    },
    {
      "cell_type": "code",
      "source": [
        "from sklearn.preprocessing import LabelEncoder\n",
        "Encoder = LabelEncoder()\n",
        "Train_Y = Encoder.fit_transform(y_train)\n",
        "Test_Y = Encoder.fit_transform(y_test)"
      ],
      "metadata": {
        "id": "j_N_zoCHQyPE"
      },
      "execution_count": 6,
      "outputs": []
    },
    {
      "cell_type": "code",
      "source": [
        "Tfidf_vect = TfidfVectorizer(max_features=300)\n",
        "Tfidf_vect.fit(data['News'])\n",
        "Train_X_Tfidf = Tfidf_vect.transform(X_train)\n",
        "Test_X_Tfidf = Tfidf_vect.transform(X_test)"
      ],
      "metadata": {
        "id": "1l2aHQOSOuo0"
      },
      "execution_count": 7,
      "outputs": []
    },
    {
      "cell_type": "code",
      "source": [
        "print(Tfidf_vect.vocabulary_)"
      ],
      "metadata": {
        "colab": {
          "base_uri": "https://localhost:8080/"
        },
        "id": "-jvDonVxRMiw",
        "outputId": "1f2c8384-d0b5-40b6-ed95-80fa5508e3cd"
      },
      "execution_count": 8,
      "outputs": [
        {
          "output_type": "stream",
          "name": "stdout",
          "text": [
            "{'දක': 131, 'අප': 11, 'ඉන': 40, 'වන': 257, 'තරඟ': 125, 'අද': 5, 'මල': 188, 'ජය': 101, 'සල': 287, 'තරග': 124, 'යළ': 213, 'කට': 66, 'කණ': 69, 'ලන': 247, 'යමට': 202, 'ලක': 242, 'පර': 163, 'ජයක': 102, 'රව': 237, 'අවසන': 21, 'බර': 175, 'සම': 284, 'කරය': 81, 'පරද': 164, 'කඩ': 68, 'ගන': 85, 'නයට': 150, 'යම': 201, 'නස': 154, 'කත': 70, 'නව': 152, 'තක': 117, 'වක': 253, 'කල': 82, 'අධ': 8, 'පන': 160, 'වය': 259, 'වල': 265, 'මධ': 183, 'අන': 9, 'තර': 123, 'කළ': 83, 'පළම': 171, 'කර': 76, 'ඔස': 60, 'සභ': 283, 'පත': 157, 'රක': 214, 'ජර': 104, 'ටර': 109, 'සය': 285, 'රම': 231, 'ගලන': 92, 'යක': 193, 'ඉහළට': 46, 'රල': 236, 'අනත': 10, 'ඇඟව': 30, 'රය': 233, 'ඉවත': 44, 'රත': 224, 'ඇරඹ': 35, 'මහ': 192, 'යය': 203, 'ගත': 84, 'ආස': 28, 'අර': 15, 'ධය': 141, 'හය': 294, 'මට': 180, 'ටල': 110, 'ඩක': 111, 'යට': 197, 'ශයට': 272, 'නය': 148, 'අදය': 7, 'නවස': 153, 'තය': 121, 'එක': 52, 'කම': 74, 'ඉද': 39, 'වත': 255, 'ටන': 107, 'ටත': 106, 'යකත': 194, 'ශක': 268, 'අල': 16, 'නට': 143, 'ලර': 251, 'කය': 75, 'අවධ': 19, 'ඉත': 38, 'එර': 55, 'ඩකය': 112, 'අය': 14, 'එල': 56, 'ඳව': 155, 'තවද': 129, 'රටත': 219, 'බල': 176, 'ළට': 298, 'රද': 227, 'උළ': 51, 'ළඹ': 299, 'ලය': 250, 'වර': 261, 'මක': 179, 'වසර': 267, 'සත': 280, 'එම': 54, 'රණ': 221, 'පස': 167, 'තරඟය': 126, 'කරණය': 78, 'ජයග': 103, 'මණ': 181, 'ඩල': 115, 'පදක': 159, 'නම': 146, 'චන': 94, 'රථ': 225, 'යර': 206, 'අවස': 20, 'ඕස': 61, 'අස': 22, 'රන': 229, 'ධන': 140, 'දන': 132, 'තම': 120, 'ශය': 270, 'පක': 156, 'ලග': 243, 'යන': 200, 'වට': 254, 'පහරද': 169, 'යල': 207, 'නඩ': 144, 'ශතක': 269, 'අඩ': 3, 'ඉලක': 43, 'ගමය': 88, 'අභ': 12, 'ගයක': 90, 'දල': 137, 'ඩකයන': 113, 'සර': 286, 'ගල': 91, 'සට': 278, 'කරණ': 77, 'ගය': 89, 'ලබන': 249, 'ඩන': 114, 'යකය': 195, 'රග': 215, 'යද': 199, 'එළ': 58, 'රධ': 228, 'රට': 218, 'සන': 281, 'අහ': 23, 'වද': 256, 'ජන': 97, 'කරන': 79, 'අම': 13, 'සටන': 279, 'කක': 63, 'වරට': 262, 'රයක': 234, 'ජනත': 98, 'යස': 212, 'පල': 165, 'ඉල': 42, 'පව': 166, 'මන': 184, 'ශයක': 271, 'හම': 293, 'නයක': 149, 'පය': 161, 'පයක': 162, 'ණය': 116, 'කටය': 67, 'තරඟයට': 127, 'නමක': 147, 'ඔල': 59, 'ඇෆ': 36, 'දර': 136, 'උත': 48, 'අව': 17, 'රස': 238, 'රළ': 241, 'කන': 71, 'ඉහළ': 45, 'රණය': 222, 'රබල': 230, 'සක': 276, 'ඉක': 37, 'රහ': 239, 'වම': 258, 'ලබ': 248, 'මර': 186, 'ටප': 108, 'යවන': 209, 'හද': 291, 'උපද': 50, 'හර': 295, 'තත': 118, 'අත': 4, 'මය': 185, 'අදත': 6, 'නක': 142, 'කච': 65, 'පළ': 170, 'හත': 290, 'යත': 198, 'හල': 296, 'දයක': 135, 'ඇමර': 34, 'යයට': 204, 'දය': 134, 'අගම': 2, 'ලද': 245, 'ෂණ': 274, 'රටවල': 220, 'උද': 49, 'රයට': 235, 'කප': 73, 'වරය': 264, 'ජග': 96, 'බන': 173, 'මස': 191, 'අග': 1, 'දහස': 138, 'ආර': 26, 'ගම': 86, 'ගමන': 87, 'කරම': 80, 'බස': 178, 'මරණ': 187, 'රණයක': 223, 'සහ': 288, 'ඇමත': 33, 'සහය': 289, 'ජප': 100, 'ඇම': 32, 'බය': 174, 'තයන': 122, 'පහර': 168, 'අවද': 18, 'මත': 182, 'යව': 208, 'ලධ': 246, 'බලය': 177, 'ඇත': 31, 'අක': 0, 'පද': 158, 'තහනම': 130, 'මව': 189, 'යවර': 210, 'ආහ': 29, 'ලස': 252, 'ආධ': 25, 'උණ': 47, 'බද': 172, 'ධත': 139, 'ඡන': 95, 'ෂක': 273, 'වස': 266, 'ජල': 105, 'ලත': 244, 'එන': 53, 'රජය': 217, 'ඉර': 41, 'වරණ': 263, 'රජ': 216, 'ළඟ': 297, 'තන': 119, 'එස': 57, 'නර': 151, 'නත': 145, 'සඳ': 282, 'හන': 292, 'ෂය': 275, 'දනයක': 133, 'ජනපත': 99, 'වයක': 260, 'ආරක': 27, 'යයය': 205, 'කඳ': 72, 'රහස': 240, 'ගලය': 93, 'රමණ': 232, 'යග': 196, 'මවය': 190, 'තල': 128, 'ආණ': 24, 'රථයක': 226, 'යෂ': 211, 'කකර': 64, 'ඖෂධ': 62, 'සජ': 277}\n"
          ]
        }
      ]
    },
    {
      "cell_type": "code",
      "source": [
        "from sklearn.metrics import accuracy_score\n",
        "# Classifier - Algorithm - SVM\n",
        "# fit the training dataset on the classifier\n",
        "SVM = svm.SVC(C=1.0, kernel='linear', degree=3, gamma='auto')\n",
        "SVM.fit(Train_X_Tfidf,Train_Y)\n",
        "# predict the labels on validation dataset\n",
        "predictions_SVM = SVM.predict(Test_X_Tfidf)\n",
        "# Use accuracy_score function to get the accuracy\n",
        "print(\"SVM Accuracy Score -> \",accuracy_score(predictions_SVM, Test_Y)*100)"
      ],
      "metadata": {
        "colab": {
          "base_uri": "https://localhost:8080/"
        },
        "id": "4vb_nYIuRVHf",
        "outputId": "c8d2ba87-d398-4c1a-bd3d-c29983158c41"
      },
      "execution_count": 9,
      "outputs": [
        {
          "output_type": "stream",
          "name": "stdout",
          "text": [
            "SVM Accuracy Score ->  73.12360663859302\n"
          ]
        }
      ]
    }
  ]
}